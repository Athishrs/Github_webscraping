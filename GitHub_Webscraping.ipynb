{
 "cells": [
  {
   "cell_type": "markdown",
   "id": "39c46803",
   "metadata": {},
   "source": [
    "#  Scraping Top Repositories in GitHub"
   ]
  },
  {
   "cell_type": "markdown",
   "id": "85ed960b",
   "metadata": {},
   "source": [
    "Tools Used : Python, Beautiful Soup, Pandas, Requests"
   ]
  },
  {
   "cell_type": "markdown",
   "id": "c615156d",
   "metadata": {},
   "source": [
    "#### We are now going to scrap the list of famous repos from Github"
   ]
  },
  {
   "cell_type": "markdown",
   "id": "c3b804ed",
   "metadata": {},
   "source": [
    "Let's use requests library "
   ]
  },
  {
   "cell_type": "code",
   "execution_count": 2,
   "id": "ef3d72d6",
   "metadata": {},
   "outputs": [],
   "source": [
    "! pip install requests --upgrade --quiet"
   ]
  },
  {
   "cell_type": "code",
   "execution_count": 3,
   "id": "353a7de6",
   "metadata": {},
   "outputs": [],
   "source": [
    "import requests"
   ]
  },
  {
   "cell_type": "code",
   "execution_count": 4,
   "id": "60e11f26",
   "metadata": {},
   "outputs": [],
   "source": [
    "topics_url='https://github.com/topics'"
   ]
  },
  {
   "cell_type": "code",
   "execution_count": 5,
   "id": "71a2aa2b",
   "metadata": {},
   "outputs": [],
   "source": [
    "response=requests.get(topics_url)"
   ]
  },
  {
   "cell_type": "code",
   "execution_count": 6,
   "id": "7fe0f29e",
   "metadata": {},
   "outputs": [
    {
     "data": {
      "text/plain": [
       "200"
      ]
     },
     "execution_count": 6,
     "metadata": {},
     "output_type": "execute_result"
    }
   ],
   "source": [
    "response.status_code"
   ]
  },
  {
   "cell_type": "markdown",
   "id": "d18e1db8",
   "metadata": {},
   "source": [
    "The above status code \"200\" indicates that the response was successful"
   ]
  },
  {
   "cell_type": "code",
   "execution_count": 7,
   "id": "008d2c3b",
   "metadata": {},
   "outputs": [
    {
     "data": {
      "text/plain": [
       "165997"
      ]
     },
     "execution_count": 7,
     "metadata": {},
     "output_type": "execute_result"
    }
   ],
   "source": [
    "len(response.text)"
   ]
  },
  {
   "cell_type": "code",
   "execution_count": 8,
   "id": "0cdc63bf",
   "metadata": {},
   "outputs": [],
   "source": [
    "with open('webpage.html','w') as f:\n",
    "    f.write(response.text)"
   ]
  },
  {
   "cell_type": "markdown",
   "id": "f460be94",
   "metadata": {},
   "source": [
    "#### Using Beautiful Soup to parse and extract information"
   ]
  },
  {
   "cell_type": "code",
   "execution_count": 9,
   "id": "b415aee1",
   "metadata": {},
   "outputs": [],
   "source": [
    " !pip install beautifulsoup4 --upgrade --quiet"
   ]
  },
  {
   "cell_type": "code",
   "execution_count": 10,
   "id": "90f301e0",
   "metadata": {},
   "outputs": [],
   "source": [
    "from bs4 import BeautifulSoup"
   ]
  },
  {
   "cell_type": "code",
   "execution_count": 11,
   "id": "4e960b31",
   "metadata": {},
   "outputs": [],
   "source": [
    "doc=BeautifulSoup(response.text,'html.parser')"
   ]
  },
  {
   "cell_type": "code",
   "execution_count": 12,
   "id": "cffcfa25",
   "metadata": {},
   "outputs": [
    {
     "data": {
      "text/plain": [
       "bs4.BeautifulSoup"
      ]
     },
     "execution_count": 12,
     "metadata": {},
     "output_type": "execute_result"
    }
   ],
   "source": [
    "type(doc)"
   ]
  },
  {
   "cell_type": "markdown",
   "id": "ffd7b0c4",
   "metadata": {},
   "source": [
    "Since, all the topics are paragraphs, let's grab all the p tags"
   ]
  },
  {
   "cell_type": "code",
   "execution_count": 13,
   "id": "2eadcf58",
   "metadata": {},
   "outputs": [],
   "source": [
    "selection_class=\"f3 lh-condensed mb-0 mt-1 Link--primary\""
   ]
  },
  {
   "cell_type": "code",
   "execution_count": 14,
   "id": "4fdca945",
   "metadata": {},
   "outputs": [],
   "source": [
    "topic_title_tags=doc.find_all('p',{'class':selection_class})"
   ]
  },
  {
   "cell_type": "code",
   "execution_count": 15,
   "id": "9f89f743",
   "metadata": {},
   "outputs": [
    {
     "data": {
      "text/plain": [
       "30"
      ]
     },
     "execution_count": 15,
     "metadata": {},
     "output_type": "execute_result"
    }
   ],
   "source": [
    "len(topic_title_tags)"
   ]
  },
  {
   "cell_type": "code",
   "execution_count": 16,
   "id": "5e912dea",
   "metadata": {},
   "outputs": [],
   "source": [
    "desc_selector=\"f5 color-fg-muted mb-0 mt-1\"\n",
    "topic_desc_tags=doc.find_all('p',{'class':desc_selector})"
   ]
  },
  {
   "cell_type": "code",
   "execution_count": 17,
   "id": "468e9f50",
   "metadata": {},
   "outputs": [
    {
     "data": {
      "text/plain": [
       "30"
      ]
     },
     "execution_count": 17,
     "metadata": {},
     "output_type": "execute_result"
    }
   ],
   "source": [
    "len(topic_desc_tags)"
   ]
  },
  {
   "cell_type": "code",
   "execution_count": 18,
   "id": "59d2d208",
   "metadata": {},
   "outputs": [],
   "source": [
    "topic_link_tags=doc.find_all('a',{'class':'no-underline flex-1 d-flex flex-column'})"
   ]
  },
  {
   "cell_type": "code",
   "execution_count": 19,
   "id": "9e15d0b3",
   "metadata": {},
   "outputs": [
    {
     "data": {
      "text/plain": [
       "30"
      ]
     },
     "execution_count": 19,
     "metadata": {},
     "output_type": "execute_result"
    }
   ],
   "source": [
    "len(topic_link_tags)"
   ]
  },
  {
   "cell_type": "code",
   "execution_count": 20,
   "id": "b2a055d6",
   "metadata": {},
   "outputs": [],
   "source": [
    "topic0_url=\"https://github.com\"+topic_link_tags[0]['href']"
   ]
  },
  {
   "cell_type": "code",
   "execution_count": 21,
   "id": "1cf582cd",
   "metadata": {},
   "outputs": [
    {
     "name": "stdout",
     "output_type": "stream",
     "text": [
      "https://github.com/topics/3d\n"
     ]
    }
   ],
   "source": [
    "print(topic0_url)"
   ]
  },
  {
   "cell_type": "markdown",
   "id": "5eab060c",
   "metadata": {},
   "source": [
    "#### Extracting only the Topic titles\n"
   ]
  },
  {
   "cell_type": "code",
   "execution_count": 22,
   "id": "838580bf",
   "metadata": {},
   "outputs": [],
   "source": [
    "topic_titles=[]\n",
    "for tag in topic_title_tags:\n",
    "    topic_titles.append(tag.text)"
   ]
  },
  {
   "cell_type": "code",
   "execution_count": 23,
   "id": "e86ef976",
   "metadata": {},
   "outputs": [
    {
     "name": "stdout",
     "output_type": "stream",
     "text": [
      "['3D', 'Ajax', 'Algorithm', 'Amp', 'Android', 'Angular', 'Ansible', 'API', 'Arduino', 'ASP.NET', 'Atom', 'Awesome Lists', 'Amazon Web Services', 'Azure', 'Babel', 'Bash', 'Bitcoin', 'Bootstrap', 'Bot', 'C', 'Chrome', 'Chrome extension', 'Command line interface', 'Clojure', 'Code quality', 'Code review', 'Compiler', 'Continuous integration', 'COVID-19', 'C++']\n"
     ]
    }
   ],
   "source": [
    "print(topic_titles)"
   ]
  },
  {
   "cell_type": "markdown",
   "id": "ce04edf0",
   "metadata": {},
   "source": [
    "#### Extracting only the Topic Descriptions"
   ]
  },
  {
   "cell_type": "code",
   "execution_count": 24,
   "id": "4520ff46",
   "metadata": {},
   "outputs": [],
   "source": [
    "topic_desc=[]\n",
    "for tag in topic_desc_tags:\n",
    "    topic_desc.append(tag.text.strip())"
   ]
  },
  {
   "cell_type": "code",
   "execution_count": 25,
   "id": "85b17bd4",
   "metadata": {},
   "outputs": [
    {
     "name": "stdout",
     "output_type": "stream",
     "text": [
      "['3D refers to the use of three-dimensional graphics, modeling, and animation in various industries.', 'Ajax is a technique for creating interactive web applications.', 'Algorithms are self-contained sequences that carry out a variety of tasks.', 'Amp is a non-blocking concurrency library for PHP.', 'Android is an operating system built by Google designed for mobile devices.', 'Angular is an open source web application platform.', 'Ansible is a simple and powerful automation engine.', 'An API (Application Programming Interface) is a collection of protocols and subroutines for building software.', 'Arduino is an open source platform for building electronic devices.', 'ASP.NET is a web framework for building modern web apps and services.', 'Atom is a open source text editor built with web technologies.', 'An awesome list is a list of awesome things curated by the community.', 'Amazon Web Services provides on-demand cloud computing platforms on a subscription basis.', 'Azure is a cloud computing service created by Microsoft.', 'Babel is a compiler for writing next generation JavaScript, today.', 'Bash is a shell and command language interpreter for the GNU operating system.', 'Bitcoin is a cryptocurrency developed by Satoshi Nakamoto.', 'Bootstrap is an HTML, CSS, and JavaScript framework.', 'A bot is an application that runs automated tasks over the Internet.', 'C is a general purpose programming language that first appeared in 1972.', 'Chrome is a web browser from the tech company Google.', 'Chrome extensions enable users to customize the Chrome browsing experience.', 'A CLI, or command-line interface, is a console that helps users issue commands to a program.', 'Clojure is a dynamic, general-purpose programming language.', 'Automate your code review with style, quality, security, and test‑coverage checks when you need them.', 'Ensure your code meets quality standards and ship with confidence.', 'Compilers are software that translate higher-level programming languages to lower-level languages (e.g. machine code).', 'Automatically build and test your code as you push it upstream, preventing bugs from being deployed to production.', 'The coronavirus disease 2019 (COVID-19) is an infectious disease caused by SARS-CoV-2.', 'C++ is a general purpose and object-oriented programming language.']\n"
     ]
    }
   ],
   "source": [
    "print(topic_desc)"
   ]
  },
  {
   "cell_type": "markdown",
   "id": "1342ba33",
   "metadata": {},
   "source": [
    "#### Extracting only the Urls"
   ]
  },
  {
   "cell_type": "code",
   "execution_count": 26,
   "id": "f0bc0b87",
   "metadata": {},
   "outputs": [],
   "source": [
    "topic_urls=[]\n",
    "for i in range(len(topic_link_tags)):\n",
    "    topic_urls.append(\"https://github.com\"+topic_link_tags[i]['href'])"
   ]
  },
  {
   "cell_type": "code",
   "execution_count": 27,
   "id": "1e5b2212",
   "metadata": {},
   "outputs": [
    {
     "name": "stdout",
     "output_type": "stream",
     "text": [
      "['https://github.com/topics/3d', 'https://github.com/topics/ajax', 'https://github.com/topics/algorithm', 'https://github.com/topics/amphp', 'https://github.com/topics/android', 'https://github.com/topics/angular', 'https://github.com/topics/ansible', 'https://github.com/topics/api', 'https://github.com/topics/arduino', 'https://github.com/topics/aspnet', 'https://github.com/topics/atom', 'https://github.com/topics/awesome', 'https://github.com/topics/aws', 'https://github.com/topics/azure', 'https://github.com/topics/babel', 'https://github.com/topics/bash', 'https://github.com/topics/bitcoin', 'https://github.com/topics/bootstrap', 'https://github.com/topics/bot', 'https://github.com/topics/c', 'https://github.com/topics/chrome', 'https://github.com/topics/chrome-extension', 'https://github.com/topics/cli', 'https://github.com/topics/clojure', 'https://github.com/topics/code-quality', 'https://github.com/topics/code-review', 'https://github.com/topics/compiler', 'https://github.com/topics/continuous-integration', 'https://github.com/topics/covid-19', 'https://github.com/topics/cpp']\n"
     ]
    }
   ],
   "source": [
    "print(topic_urls)"
   ]
  },
  {
   "cell_type": "code",
   "execution_count": 28,
   "id": "741af6a0",
   "metadata": {},
   "outputs": [],
   "source": [
    "!pip install pandas --quiet"
   ]
  },
  {
   "cell_type": "code",
   "execution_count": 29,
   "id": "3847d377",
   "metadata": {},
   "outputs": [],
   "source": [
    "import pandas as pd"
   ]
  },
  {
   "cell_type": "markdown",
   "id": "e1eb6dc6",
   "metadata": {},
   "source": [
    "Let's first create a dictionary with all the lists, so that it \n",
    "will be easy for us to create a DataFrame"
   ]
  },
  {
   "cell_type": "code",
   "execution_count": 30,
   "id": "65bb3840",
   "metadata": {},
   "outputs": [],
   "source": [
    "topics_dict={\n",
    "    'title':topic_titles,\n",
    "    'description':topic_desc,\n",
    "    'link':topic_urls\n",
    "}"
   ]
  },
  {
   "cell_type": "code",
   "execution_count": 31,
   "id": "84928c6e",
   "metadata": {},
   "outputs": [],
   "source": [
    "topics_df=pd.DataFrame(topics_dict)"
   ]
  },
  {
   "cell_type": "code",
   "execution_count": 32,
   "id": "c4dcac79",
   "metadata": {},
   "outputs": [
    {
     "data": {
      "text/html": [
       "<div>\n",
       "<style scoped>\n",
       "    .dataframe tbody tr th:only-of-type {\n",
       "        vertical-align: middle;\n",
       "    }\n",
       "\n",
       "    .dataframe tbody tr th {\n",
       "        vertical-align: top;\n",
       "    }\n",
       "\n",
       "    .dataframe thead th {\n",
       "        text-align: right;\n",
       "    }\n",
       "</style>\n",
       "<table border=\"1\" class=\"dataframe\">\n",
       "  <thead>\n",
       "    <tr style=\"text-align: right;\">\n",
       "      <th></th>\n",
       "      <th>title</th>\n",
       "      <th>description</th>\n",
       "      <th>link</th>\n",
       "    </tr>\n",
       "  </thead>\n",
       "  <tbody>\n",
       "    <tr>\n",
       "      <th>0</th>\n",
       "      <td>3D</td>\n",
       "      <td>3D refers to the use of three-dimensional grap...</td>\n",
       "      <td>https://github.com/topics/3d</td>\n",
       "    </tr>\n",
       "    <tr>\n",
       "      <th>1</th>\n",
       "      <td>Ajax</td>\n",
       "      <td>Ajax is a technique for creating interactive w...</td>\n",
       "      <td>https://github.com/topics/ajax</td>\n",
       "    </tr>\n",
       "    <tr>\n",
       "      <th>2</th>\n",
       "      <td>Algorithm</td>\n",
       "      <td>Algorithms are self-contained sequences that c...</td>\n",
       "      <td>https://github.com/topics/algorithm</td>\n",
       "    </tr>\n",
       "    <tr>\n",
       "      <th>3</th>\n",
       "      <td>Amp</td>\n",
       "      <td>Amp is a non-blocking concurrency library for ...</td>\n",
       "      <td>https://github.com/topics/amphp</td>\n",
       "    </tr>\n",
       "    <tr>\n",
       "      <th>4</th>\n",
       "      <td>Android</td>\n",
       "      <td>Android is an operating system built by Google...</td>\n",
       "      <td>https://github.com/topics/android</td>\n",
       "    </tr>\n",
       "    <tr>\n",
       "      <th>5</th>\n",
       "      <td>Angular</td>\n",
       "      <td>Angular is an open source web application plat...</td>\n",
       "      <td>https://github.com/topics/angular</td>\n",
       "    </tr>\n",
       "    <tr>\n",
       "      <th>6</th>\n",
       "      <td>Ansible</td>\n",
       "      <td>Ansible is a simple and powerful automation en...</td>\n",
       "      <td>https://github.com/topics/ansible</td>\n",
       "    </tr>\n",
       "    <tr>\n",
       "      <th>7</th>\n",
       "      <td>API</td>\n",
       "      <td>An API (Application Programming Interface) is ...</td>\n",
       "      <td>https://github.com/topics/api</td>\n",
       "    </tr>\n",
       "    <tr>\n",
       "      <th>8</th>\n",
       "      <td>Arduino</td>\n",
       "      <td>Arduino is an open source platform for buildin...</td>\n",
       "      <td>https://github.com/topics/arduino</td>\n",
       "    </tr>\n",
       "    <tr>\n",
       "      <th>9</th>\n",
       "      <td>ASP.NET</td>\n",
       "      <td>ASP.NET is a web framework for building modern...</td>\n",
       "      <td>https://github.com/topics/aspnet</td>\n",
       "    </tr>\n",
       "    <tr>\n",
       "      <th>10</th>\n",
       "      <td>Atom</td>\n",
       "      <td>Atom is a open source text editor built with w...</td>\n",
       "      <td>https://github.com/topics/atom</td>\n",
       "    </tr>\n",
       "    <tr>\n",
       "      <th>11</th>\n",
       "      <td>Awesome Lists</td>\n",
       "      <td>An awesome list is a list of awesome things cu...</td>\n",
       "      <td>https://github.com/topics/awesome</td>\n",
       "    </tr>\n",
       "    <tr>\n",
       "      <th>12</th>\n",
       "      <td>Amazon Web Services</td>\n",
       "      <td>Amazon Web Services provides on-demand cloud c...</td>\n",
       "      <td>https://github.com/topics/aws</td>\n",
       "    </tr>\n",
       "    <tr>\n",
       "      <th>13</th>\n",
       "      <td>Azure</td>\n",
       "      <td>Azure is a cloud computing service created by ...</td>\n",
       "      <td>https://github.com/topics/azure</td>\n",
       "    </tr>\n",
       "    <tr>\n",
       "      <th>14</th>\n",
       "      <td>Babel</td>\n",
       "      <td>Babel is a compiler for writing next generatio...</td>\n",
       "      <td>https://github.com/topics/babel</td>\n",
       "    </tr>\n",
       "    <tr>\n",
       "      <th>15</th>\n",
       "      <td>Bash</td>\n",
       "      <td>Bash is a shell and command language interpret...</td>\n",
       "      <td>https://github.com/topics/bash</td>\n",
       "    </tr>\n",
       "    <tr>\n",
       "      <th>16</th>\n",
       "      <td>Bitcoin</td>\n",
       "      <td>Bitcoin is a cryptocurrency developed by Satos...</td>\n",
       "      <td>https://github.com/topics/bitcoin</td>\n",
       "    </tr>\n",
       "    <tr>\n",
       "      <th>17</th>\n",
       "      <td>Bootstrap</td>\n",
       "      <td>Bootstrap is an HTML, CSS, and JavaScript fram...</td>\n",
       "      <td>https://github.com/topics/bootstrap</td>\n",
       "    </tr>\n",
       "    <tr>\n",
       "      <th>18</th>\n",
       "      <td>Bot</td>\n",
       "      <td>A bot is an application that runs automated ta...</td>\n",
       "      <td>https://github.com/topics/bot</td>\n",
       "    </tr>\n",
       "    <tr>\n",
       "      <th>19</th>\n",
       "      <td>C</td>\n",
       "      <td>C is a general purpose programming language th...</td>\n",
       "      <td>https://github.com/topics/c</td>\n",
       "    </tr>\n",
       "    <tr>\n",
       "      <th>20</th>\n",
       "      <td>Chrome</td>\n",
       "      <td>Chrome is a web browser from the tech company ...</td>\n",
       "      <td>https://github.com/topics/chrome</td>\n",
       "    </tr>\n",
       "    <tr>\n",
       "      <th>21</th>\n",
       "      <td>Chrome extension</td>\n",
       "      <td>Chrome extensions enable users to customize th...</td>\n",
       "      <td>https://github.com/topics/chrome-extension</td>\n",
       "    </tr>\n",
       "    <tr>\n",
       "      <th>22</th>\n",
       "      <td>Command line interface</td>\n",
       "      <td>A CLI, or command-line interface, is a console...</td>\n",
       "      <td>https://github.com/topics/cli</td>\n",
       "    </tr>\n",
       "    <tr>\n",
       "      <th>23</th>\n",
       "      <td>Clojure</td>\n",
       "      <td>Clojure is a dynamic, general-purpose programm...</td>\n",
       "      <td>https://github.com/topics/clojure</td>\n",
       "    </tr>\n",
       "    <tr>\n",
       "      <th>24</th>\n",
       "      <td>Code quality</td>\n",
       "      <td>Automate your code review with style, quality,...</td>\n",
       "      <td>https://github.com/topics/code-quality</td>\n",
       "    </tr>\n",
       "    <tr>\n",
       "      <th>25</th>\n",
       "      <td>Code review</td>\n",
       "      <td>Ensure your code meets quality standards and s...</td>\n",
       "      <td>https://github.com/topics/code-review</td>\n",
       "    </tr>\n",
       "    <tr>\n",
       "      <th>26</th>\n",
       "      <td>Compiler</td>\n",
       "      <td>Compilers are software that translate higher-l...</td>\n",
       "      <td>https://github.com/topics/compiler</td>\n",
       "    </tr>\n",
       "    <tr>\n",
       "      <th>27</th>\n",
       "      <td>Continuous integration</td>\n",
       "      <td>Automatically build and test your code as you ...</td>\n",
       "      <td>https://github.com/topics/continuous-integration</td>\n",
       "    </tr>\n",
       "    <tr>\n",
       "      <th>28</th>\n",
       "      <td>COVID-19</td>\n",
       "      <td>The coronavirus disease 2019 (COVID-19) is an ...</td>\n",
       "      <td>https://github.com/topics/covid-19</td>\n",
       "    </tr>\n",
       "    <tr>\n",
       "      <th>29</th>\n",
       "      <td>C++</td>\n",
       "      <td>C++ is a general purpose and object-oriented p...</td>\n",
       "      <td>https://github.com/topics/cpp</td>\n",
       "    </tr>\n",
       "  </tbody>\n",
       "</table>\n",
       "</div>"
      ],
      "text/plain": [
       "                     title                                        description  \\\n",
       "0                       3D  3D refers to the use of three-dimensional grap...   \n",
       "1                     Ajax  Ajax is a technique for creating interactive w...   \n",
       "2                Algorithm  Algorithms are self-contained sequences that c...   \n",
       "3                      Amp  Amp is a non-blocking concurrency library for ...   \n",
       "4                  Android  Android is an operating system built by Google...   \n",
       "5                  Angular  Angular is an open source web application plat...   \n",
       "6                  Ansible  Ansible is a simple and powerful automation en...   \n",
       "7                      API  An API (Application Programming Interface) is ...   \n",
       "8                  Arduino  Arduino is an open source platform for buildin...   \n",
       "9                  ASP.NET  ASP.NET is a web framework for building modern...   \n",
       "10                    Atom  Atom is a open source text editor built with w...   \n",
       "11           Awesome Lists  An awesome list is a list of awesome things cu...   \n",
       "12     Amazon Web Services  Amazon Web Services provides on-demand cloud c...   \n",
       "13                   Azure  Azure is a cloud computing service created by ...   \n",
       "14                   Babel  Babel is a compiler for writing next generatio...   \n",
       "15                    Bash  Bash is a shell and command language interpret...   \n",
       "16                 Bitcoin  Bitcoin is a cryptocurrency developed by Satos...   \n",
       "17               Bootstrap  Bootstrap is an HTML, CSS, and JavaScript fram...   \n",
       "18                     Bot  A bot is an application that runs automated ta...   \n",
       "19                       C  C is a general purpose programming language th...   \n",
       "20                  Chrome  Chrome is a web browser from the tech company ...   \n",
       "21        Chrome extension  Chrome extensions enable users to customize th...   \n",
       "22  Command line interface  A CLI, or command-line interface, is a console...   \n",
       "23                 Clojure  Clojure is a dynamic, general-purpose programm...   \n",
       "24            Code quality  Automate your code review with style, quality,...   \n",
       "25             Code review  Ensure your code meets quality standards and s...   \n",
       "26                Compiler  Compilers are software that translate higher-l...   \n",
       "27  Continuous integration  Automatically build and test your code as you ...   \n",
       "28                COVID-19  The coronavirus disease 2019 (COVID-19) is an ...   \n",
       "29                     C++  C++ is a general purpose and object-oriented p...   \n",
       "\n",
       "                                                link  \n",
       "0                       https://github.com/topics/3d  \n",
       "1                     https://github.com/topics/ajax  \n",
       "2                https://github.com/topics/algorithm  \n",
       "3                    https://github.com/topics/amphp  \n",
       "4                  https://github.com/topics/android  \n",
       "5                  https://github.com/topics/angular  \n",
       "6                  https://github.com/topics/ansible  \n",
       "7                      https://github.com/topics/api  \n",
       "8                  https://github.com/topics/arduino  \n",
       "9                   https://github.com/topics/aspnet  \n",
       "10                    https://github.com/topics/atom  \n",
       "11                 https://github.com/topics/awesome  \n",
       "12                     https://github.com/topics/aws  \n",
       "13                   https://github.com/topics/azure  \n",
       "14                   https://github.com/topics/babel  \n",
       "15                    https://github.com/topics/bash  \n",
       "16                 https://github.com/topics/bitcoin  \n",
       "17               https://github.com/topics/bootstrap  \n",
       "18                     https://github.com/topics/bot  \n",
       "19                       https://github.com/topics/c  \n",
       "20                  https://github.com/topics/chrome  \n",
       "21        https://github.com/topics/chrome-extension  \n",
       "22                     https://github.com/topics/cli  \n",
       "23                 https://github.com/topics/clojure  \n",
       "24            https://github.com/topics/code-quality  \n",
       "25             https://github.com/topics/code-review  \n",
       "26                https://github.com/topics/compiler  \n",
       "27  https://github.com/topics/continuous-integration  \n",
       "28                https://github.com/topics/covid-19  \n",
       "29                     https://github.com/topics/cpp  "
      ]
     },
     "execution_count": 32,
     "metadata": {},
     "output_type": "execute_result"
    }
   ],
   "source": [
    "topics_df\n"
   ]
  },
  {
   "cell_type": "markdown",
   "id": "52156e86",
   "metadata": {},
   "source": [
    "#### Finally let's generate a CSV file"
   ]
  },
  {
   "cell_type": "code",
   "execution_count": 33,
   "id": "4fc33356",
   "metadata": {},
   "outputs": [],
   "source": [
    "topics_df.to_csv('topics.csv',index=None)"
   ]
  },
  {
   "cell_type": "markdown",
   "id": "c5318a81",
   "metadata": {},
   "source": [
    "## Getting info out of a topic page"
   ]
  },
  {
   "cell_type": "code",
   "execution_count": 99,
   "id": "16e75e62",
   "metadata": {},
   "outputs": [],
   "source": [
    "topic_page_url=topic_urls[0]"
   ]
  },
  {
   "cell_type": "code",
   "execution_count": 100,
   "id": "8aa30788",
   "metadata": {},
   "outputs": [
    {
     "name": "stdout",
     "output_type": "stream",
     "text": [
      "https://github.com/topics/3d\n"
     ]
    }
   ],
   "source": [
    "print(topic_page_url)"
   ]
  },
  {
   "cell_type": "code",
   "execution_count": 36,
   "id": "c1381207",
   "metadata": {},
   "outputs": [],
   "source": [
    "response=requests.get(topic_page_url)"
   ]
  },
  {
   "cell_type": "code",
   "execution_count": 37,
   "id": "fd3a2505",
   "metadata": {},
   "outputs": [
    {
     "data": {
      "text/plain": [
       "200"
      ]
     },
     "execution_count": 37,
     "metadata": {},
     "output_type": "execute_result"
    }
   ],
   "source": [
    "response.status_code"
   ]
  },
  {
   "cell_type": "code",
   "execution_count": 39,
   "id": "664343a9",
   "metadata": {},
   "outputs": [
    {
     "data": {
      "text/plain": [
       "483998"
      ]
     },
     "execution_count": 39,
     "metadata": {},
     "output_type": "execute_result"
    }
   ],
   "source": [
    "len(response.text)"
   ]
  },
  {
   "cell_type": "code",
   "execution_count": 41,
   "id": "6a631edd",
   "metadata": {},
   "outputs": [],
   "source": [
    "topic_doc=BeautifulSoup(response.text,'html.parser')"
   ]
  },
  {
   "cell_type": "code",
   "execution_count": 54,
   "id": "7a35abee",
   "metadata": {},
   "outputs": [],
   "source": [
    "h3_selection_class='f3 color-fg-muted text-normal lh-condensed'\n",
    "repo_tags=topic_doc.find_all('h3',{'class':h3_selection_class})"
   ]
  },
  {
   "cell_type": "code",
   "execution_count": 55,
   "id": "975fee3c",
   "metadata": {},
   "outputs": [
    {
     "data": {
      "text/plain": [
       "20"
      ]
     },
     "execution_count": 55,
     "metadata": {},
     "output_type": "execute_result"
    }
   ],
   "source": [
    "len(repo_tags)"
   ]
  },
  {
   "cell_type": "code",
   "execution_count": 57,
   "id": "0cb4909e",
   "metadata": {},
   "outputs": [],
   "source": [
    "a_tags=repo_tags[0].find_all('a')"
   ]
  },
  {
   "cell_type": "code",
   "execution_count": 58,
   "id": "2539ceec",
   "metadata": {},
   "outputs": [
    {
     "data": {
      "text/plain": [
       "[<a class=\"Link\" data-hydro-click='{\"event_type\":\"explore.click\",\"payload\":{\"click_context\":\"REPOSITORY_CARD\",\"click_target\":\"OWNER\",\"click_visual_representation\":\"REPOSITORY_OWNER_HEADING\",\"actor_id\":null,\"record_id\":97088,\"originating_url\":\"https://github.com/topics/3d\",\"user_id\":null}}' data-hydro-click-hmac=\"4bdbc49d3c05ae7f70b531fbce709a384200b0768554e0172950286a8db30940\" data-turbo=\"false\" data-view-component=\"true\" href=\"/mrdoob\">\n",
       "             mrdoob\n",
       " </a>,\n",
       " <a class=\"Link text-bold wb-break-word\" data-hydro-click='{\"event_type\":\"explore.click\",\"payload\":{\"click_context\":\"REPOSITORY_CARD\",\"click_target\":\"REPOSITORY\",\"click_visual_representation\":\"REPOSITORY_NAME_HEADING\",\"actor_id\":null,\"record_id\":576201,\"originating_url\":\"https://github.com/topics/3d\",\"user_id\":null}}' data-hydro-click-hmac=\"517d3d5cb9d89752156923904a4238816bc9b51ab7772f3e3644ce897d8dd4e5\" data-turbo=\"false\" data-view-component=\"true\" href=\"/mrdoob/three.js\">\n",
       "             three.js\n",
       " </a>]"
      ]
     },
     "execution_count": 58,
     "metadata": {},
     "output_type": "execute_result"
    }
   ],
   "source": [
    "a_tags"
   ]
  },
  {
   "cell_type": "code",
   "execution_count": 60,
   "id": "08198e38",
   "metadata": {},
   "outputs": [
    {
     "data": {
      "text/plain": [
       "'mrdoob'"
      ]
     },
     "execution_count": 60,
     "metadata": {},
     "output_type": "execute_result"
    }
   ],
   "source": [
    "a_tags[0].text.strip()"
   ]
  },
  {
   "cell_type": "code",
   "execution_count": 61,
   "id": "52398cb3",
   "metadata": {},
   "outputs": [
    {
     "data": {
      "text/plain": [
       "'three.js'"
      ]
     },
     "execution_count": 61,
     "metadata": {},
     "output_type": "execute_result"
    }
   ],
   "source": [
    "a_tags[1].text.strip()"
   ]
  },
  {
   "cell_type": "code",
   "execution_count": 64,
   "id": "b1c378af",
   "metadata": {},
   "outputs": [
    {
     "data": {
      "text/plain": [
       "'/mrdoob/three.js'"
      ]
     },
     "execution_count": 64,
     "metadata": {},
     "output_type": "execute_result"
    }
   ],
   "source": [
    "base_url='https://github.com'\n",
    "a_tags[1]['href']\n"
   ]
  },
  {
   "cell_type": "code",
   "execution_count": 65,
   "id": "b1dd23db",
   "metadata": {},
   "outputs": [],
   "source": [
    "repo_url=base_url+a_tags[1]['href']"
   ]
  },
  {
   "cell_type": "code",
   "execution_count": 67,
   "id": "4a185ef3",
   "metadata": {},
   "outputs": [
    {
     "name": "stdout",
     "output_type": "stream",
     "text": [
      "https://github.com/mrdoob/three.js\n"
     ]
    }
   ],
   "source": [
    "print(repo_url)"
   ]
  },
  {
   "cell_type": "code",
   "execution_count": 70,
   "id": "5b7630b8",
   "metadata": {},
   "outputs": [],
   "source": [
    "star_tags=topic_doc.find_all('span',{'class':\"Counter js-social-count\"})"
   ]
  },
  {
   "cell_type": "code",
   "execution_count": 71,
   "id": "ff5d0e80",
   "metadata": {},
   "outputs": [
    {
     "data": {
      "text/plain": [
       "20"
      ]
     },
     "execution_count": 71,
     "metadata": {},
     "output_type": "execute_result"
    }
   ],
   "source": [
    "len(star_tags)"
   ]
  },
  {
   "cell_type": "code",
   "execution_count": 75,
   "id": "273df027",
   "metadata": {},
   "outputs": [
    {
     "data": {
      "text/plain": [
       "'95.2k'"
      ]
     },
     "execution_count": 75,
     "metadata": {},
     "output_type": "execute_result"
    }
   ],
   "source": [
    "star_tags[0].text.strip()"
   ]
  },
  {
   "cell_type": "code",
   "execution_count": 78,
   "id": "313602da",
   "metadata": {},
   "outputs": [],
   "source": [
    "def parse_star_count(stars_str):\n",
    "    stars_str=stars_str.strip()\n",
    "    if stars_str[-1]=='k':\n",
    "        return int(float(stars_str[:-1])*1000)\n",
    "    return int(stars_str)\n",
    "        "
   ]
  },
  {
   "cell_type": "code",
   "execution_count": 79,
   "id": "23e21a5b",
   "metadata": {},
   "outputs": [
    {
     "data": {
      "text/plain": [
       "95200"
      ]
     },
     "execution_count": 79,
     "metadata": {},
     "output_type": "execute_result"
    }
   ],
   "source": [
    "parse_star_count(star_tags[0].text.strip())"
   ]
  },
  {
   "cell_type": "code",
   "execution_count": 81,
   "id": "6bcde1fb",
   "metadata": {},
   "outputs": [],
   "source": [
    "def get_repo_info(h3_tag,star_tag):\n",
    "    a_tags=h3_tag.find_all('a')\n",
    "    username=a_tags[0].text.strip()\n",
    "    repo_name=a_tags[1].text.strip()\n",
    "    repo_url=base_url+a_tags[1]['href']\n",
    "    stars=parse_star_count(star_tag.text.strip())\n",
    "    return username,repo_name,stars,repo_url"
   ]
  },
  {
   "cell_type": "code",
   "execution_count": 82,
   "id": "70c5d0a6",
   "metadata": {},
   "outputs": [
    {
     "data": {
      "text/plain": [
       "('mrdoob', 'three.js', 95200, 'https://github.com/mrdoob/three.js')"
      ]
     },
     "execution_count": 82,
     "metadata": {},
     "output_type": "execute_result"
    }
   ],
   "source": [
    "get_repo_info(repo_tags[0],star_tags[0])"
   ]
  },
  {
   "cell_type": "code",
   "execution_count": 84,
   "id": "cb2158a1",
   "metadata": {},
   "outputs": [],
   "source": [
    "topics_repos_dict={\n",
    "    'username':[],\n",
    "    'repo_name':[],\n",
    "    'stars':[],\n",
    "    'repo_url':[]\n",
    "}\n",
    "for i in range(len(repo_tags)):\n",
    "    repo_info=get_repo_info(repo_tags[i],star_tags[i])\n",
    "    topics_repos_dict['username'].append(repo_info[0])\n",
    "    topics_repos_dict['repo_name'].append(repo_info[1])\n",
    "    topics_repos_dict['stars'].append(repo_info[2])\n",
    "    topics_repos_dict['repo_url'].append(repo_info[3])\n",
    "    "
   ]
  },
  {
   "cell_type": "code",
   "execution_count": 85,
   "id": "7b25ce4b",
   "metadata": {},
   "outputs": [
    {
     "data": {
      "text/plain": [
       "{'username': ['mrdoob',\n",
       "  'pmndrs',\n",
       "  'libgdx',\n",
       "  'BabylonJS',\n",
       "  'ssloy',\n",
       "  'lettier',\n",
       "  'aframevr',\n",
       "  'FreeCAD',\n",
       "  'CesiumGS',\n",
       "  'MonoGame',\n",
       "  'metafizzy',\n",
       "  'blender',\n",
       "  'isl-org',\n",
       "  'timzhang642',\n",
       "  'a1studmuffin',\n",
       "  'nerfstudio-project',\n",
       "  'domlysz',\n",
       "  'FyroxEngine',\n",
       "  'google',\n",
       "  'openscad'],\n",
       " 'repo_name': ['three.js',\n",
       "  'react-three-fiber',\n",
       "  'libgdx',\n",
       "  'Babylon.js',\n",
       "  'tinyrenderer',\n",
       "  '3d-game-shaders-for-beginners',\n",
       "  'aframe',\n",
       "  'FreeCAD',\n",
       "  'cesium',\n",
       "  'MonoGame',\n",
       "  'zdog',\n",
       "  'blender',\n",
       "  'Open3D',\n",
       "  '3D-Machine-Learning',\n",
       "  'SpaceshipGenerator',\n",
       "  'nerfstudio',\n",
       "  'BlenderGIS',\n",
       "  'Fyrox',\n",
       "  'model-viewer',\n",
       "  'openscad'],\n",
       " 'stars': [95200,\n",
       "  24100,\n",
       "  22100,\n",
       "  21500,\n",
       "  18100,\n",
       "  16200,\n",
       "  15700,\n",
       "  15500,\n",
       "  11100,\n",
       "  10200,\n",
       "  10000,\n",
       "  9800,\n",
       "  9600,\n",
       "  9200,\n",
       "  7500,\n",
       "  6900,\n",
       "  6800,\n",
       "  6700,\n",
       "  6100,\n",
       "  6000],\n",
       " 'repo_url': ['https://github.com/mrdoob/three.js',\n",
       "  'https://github.com/pmndrs/react-three-fiber',\n",
       "  'https://github.com/libgdx/libgdx',\n",
       "  'https://github.com/BabylonJS/Babylon.js',\n",
       "  'https://github.com/ssloy/tinyrenderer',\n",
       "  'https://github.com/lettier/3d-game-shaders-for-beginners',\n",
       "  'https://github.com/aframevr/aframe',\n",
       "  'https://github.com/FreeCAD/FreeCAD',\n",
       "  'https://github.com/CesiumGS/cesium',\n",
       "  'https://github.com/MonoGame/MonoGame',\n",
       "  'https://github.com/metafizzy/zdog',\n",
       "  'https://github.com/blender/blender',\n",
       "  'https://github.com/isl-org/Open3D',\n",
       "  'https://github.com/timzhang642/3D-Machine-Learning',\n",
       "  'https://github.com/a1studmuffin/SpaceshipGenerator',\n",
       "  'https://github.com/nerfstudio-project/nerfstudio',\n",
       "  'https://github.com/domlysz/BlenderGIS',\n",
       "  'https://github.com/FyroxEngine/Fyrox',\n",
       "  'https://github.com/google/model-viewer',\n",
       "  'https://github.com/openscad/openscad']}"
      ]
     },
     "execution_count": 85,
     "metadata": {},
     "output_type": "execute_result"
    }
   ],
   "source": [
    "topics_repos_dict"
   ]
  },
  {
   "cell_type": "code",
   "execution_count": 86,
   "id": "4ec09dd9",
   "metadata": {},
   "outputs": [],
   "source": [
    "topic_repos_df=pd.DataFrame(topics_repos_dict)"
   ]
  },
  {
   "cell_type": "code",
   "execution_count": 87,
   "id": "ed783b60",
   "metadata": {},
   "outputs": [
    {
     "data": {
      "text/html": [
       "<div>\n",
       "<style scoped>\n",
       "    .dataframe tbody tr th:only-of-type {\n",
       "        vertical-align: middle;\n",
       "    }\n",
       "\n",
       "    .dataframe tbody tr th {\n",
       "        vertical-align: top;\n",
       "    }\n",
       "\n",
       "    .dataframe thead th {\n",
       "        text-align: right;\n",
       "    }\n",
       "</style>\n",
       "<table border=\"1\" class=\"dataframe\">\n",
       "  <thead>\n",
       "    <tr style=\"text-align: right;\">\n",
       "      <th></th>\n",
       "      <th>username</th>\n",
       "      <th>repo_name</th>\n",
       "      <th>stars</th>\n",
       "      <th>repo_url</th>\n",
       "    </tr>\n",
       "  </thead>\n",
       "  <tbody>\n",
       "    <tr>\n",
       "      <th>0</th>\n",
       "      <td>mrdoob</td>\n",
       "      <td>three.js</td>\n",
       "      <td>95200</td>\n",
       "      <td>https://github.com/mrdoob/three.js</td>\n",
       "    </tr>\n",
       "    <tr>\n",
       "      <th>1</th>\n",
       "      <td>pmndrs</td>\n",
       "      <td>react-three-fiber</td>\n",
       "      <td>24100</td>\n",
       "      <td>https://github.com/pmndrs/react-three-fiber</td>\n",
       "    </tr>\n",
       "    <tr>\n",
       "      <th>2</th>\n",
       "      <td>libgdx</td>\n",
       "      <td>libgdx</td>\n",
       "      <td>22100</td>\n",
       "      <td>https://github.com/libgdx/libgdx</td>\n",
       "    </tr>\n",
       "    <tr>\n",
       "      <th>3</th>\n",
       "      <td>BabylonJS</td>\n",
       "      <td>Babylon.js</td>\n",
       "      <td>21500</td>\n",
       "      <td>https://github.com/BabylonJS/Babylon.js</td>\n",
       "    </tr>\n",
       "    <tr>\n",
       "      <th>4</th>\n",
       "      <td>ssloy</td>\n",
       "      <td>tinyrenderer</td>\n",
       "      <td>18100</td>\n",
       "      <td>https://github.com/ssloy/tinyrenderer</td>\n",
       "    </tr>\n",
       "    <tr>\n",
       "      <th>5</th>\n",
       "      <td>lettier</td>\n",
       "      <td>3d-game-shaders-for-beginners</td>\n",
       "      <td>16200</td>\n",
       "      <td>https://github.com/lettier/3d-game-shaders-for...</td>\n",
       "    </tr>\n",
       "    <tr>\n",
       "      <th>6</th>\n",
       "      <td>aframevr</td>\n",
       "      <td>aframe</td>\n",
       "      <td>15700</td>\n",
       "      <td>https://github.com/aframevr/aframe</td>\n",
       "    </tr>\n",
       "    <tr>\n",
       "      <th>7</th>\n",
       "      <td>FreeCAD</td>\n",
       "      <td>FreeCAD</td>\n",
       "      <td>15500</td>\n",
       "      <td>https://github.com/FreeCAD/FreeCAD</td>\n",
       "    </tr>\n",
       "    <tr>\n",
       "      <th>8</th>\n",
       "      <td>CesiumGS</td>\n",
       "      <td>cesium</td>\n",
       "      <td>11100</td>\n",
       "      <td>https://github.com/CesiumGS/cesium</td>\n",
       "    </tr>\n",
       "    <tr>\n",
       "      <th>9</th>\n",
       "      <td>MonoGame</td>\n",
       "      <td>MonoGame</td>\n",
       "      <td>10200</td>\n",
       "      <td>https://github.com/MonoGame/MonoGame</td>\n",
       "    </tr>\n",
       "    <tr>\n",
       "      <th>10</th>\n",
       "      <td>metafizzy</td>\n",
       "      <td>zdog</td>\n",
       "      <td>10000</td>\n",
       "      <td>https://github.com/metafizzy/zdog</td>\n",
       "    </tr>\n",
       "    <tr>\n",
       "      <th>11</th>\n",
       "      <td>blender</td>\n",
       "      <td>blender</td>\n",
       "      <td>9800</td>\n",
       "      <td>https://github.com/blender/blender</td>\n",
       "    </tr>\n",
       "    <tr>\n",
       "      <th>12</th>\n",
       "      <td>isl-org</td>\n",
       "      <td>Open3D</td>\n",
       "      <td>9600</td>\n",
       "      <td>https://github.com/isl-org/Open3D</td>\n",
       "    </tr>\n",
       "    <tr>\n",
       "      <th>13</th>\n",
       "      <td>timzhang642</td>\n",
       "      <td>3D-Machine-Learning</td>\n",
       "      <td>9200</td>\n",
       "      <td>https://github.com/timzhang642/3D-Machine-Lear...</td>\n",
       "    </tr>\n",
       "    <tr>\n",
       "      <th>14</th>\n",
       "      <td>a1studmuffin</td>\n",
       "      <td>SpaceshipGenerator</td>\n",
       "      <td>7500</td>\n",
       "      <td>https://github.com/a1studmuffin/SpaceshipGener...</td>\n",
       "    </tr>\n",
       "    <tr>\n",
       "      <th>15</th>\n",
       "      <td>nerfstudio-project</td>\n",
       "      <td>nerfstudio</td>\n",
       "      <td>6900</td>\n",
       "      <td>https://github.com/nerfstudio-project/nerfstudio</td>\n",
       "    </tr>\n",
       "    <tr>\n",
       "      <th>16</th>\n",
       "      <td>domlysz</td>\n",
       "      <td>BlenderGIS</td>\n",
       "      <td>6800</td>\n",
       "      <td>https://github.com/domlysz/BlenderGIS</td>\n",
       "    </tr>\n",
       "    <tr>\n",
       "      <th>17</th>\n",
       "      <td>FyroxEngine</td>\n",
       "      <td>Fyrox</td>\n",
       "      <td>6700</td>\n",
       "      <td>https://github.com/FyroxEngine/Fyrox</td>\n",
       "    </tr>\n",
       "    <tr>\n",
       "      <th>18</th>\n",
       "      <td>google</td>\n",
       "      <td>model-viewer</td>\n",
       "      <td>6100</td>\n",
       "      <td>https://github.com/google/model-viewer</td>\n",
       "    </tr>\n",
       "    <tr>\n",
       "      <th>19</th>\n",
       "      <td>openscad</td>\n",
       "      <td>openscad</td>\n",
       "      <td>6000</td>\n",
       "      <td>https://github.com/openscad/openscad</td>\n",
       "    </tr>\n",
       "  </tbody>\n",
       "</table>\n",
       "</div>"
      ],
      "text/plain": [
       "              username                      repo_name  stars  \\\n",
       "0               mrdoob                       three.js  95200   \n",
       "1               pmndrs              react-three-fiber  24100   \n",
       "2               libgdx                         libgdx  22100   \n",
       "3            BabylonJS                     Babylon.js  21500   \n",
       "4                ssloy                   tinyrenderer  18100   \n",
       "5              lettier  3d-game-shaders-for-beginners  16200   \n",
       "6             aframevr                         aframe  15700   \n",
       "7              FreeCAD                        FreeCAD  15500   \n",
       "8             CesiumGS                         cesium  11100   \n",
       "9             MonoGame                       MonoGame  10200   \n",
       "10           metafizzy                           zdog  10000   \n",
       "11             blender                        blender   9800   \n",
       "12             isl-org                         Open3D   9600   \n",
       "13         timzhang642            3D-Machine-Learning   9200   \n",
       "14        a1studmuffin             SpaceshipGenerator   7500   \n",
       "15  nerfstudio-project                     nerfstudio   6900   \n",
       "16             domlysz                     BlenderGIS   6800   \n",
       "17         FyroxEngine                          Fyrox   6700   \n",
       "18              google                   model-viewer   6100   \n",
       "19            openscad                       openscad   6000   \n",
       "\n",
       "                                             repo_url  \n",
       "0                  https://github.com/mrdoob/three.js  \n",
       "1         https://github.com/pmndrs/react-three-fiber  \n",
       "2                    https://github.com/libgdx/libgdx  \n",
       "3             https://github.com/BabylonJS/Babylon.js  \n",
       "4               https://github.com/ssloy/tinyrenderer  \n",
       "5   https://github.com/lettier/3d-game-shaders-for...  \n",
       "6                  https://github.com/aframevr/aframe  \n",
       "7                  https://github.com/FreeCAD/FreeCAD  \n",
       "8                  https://github.com/CesiumGS/cesium  \n",
       "9                https://github.com/MonoGame/MonoGame  \n",
       "10                  https://github.com/metafizzy/zdog  \n",
       "11                 https://github.com/blender/blender  \n",
       "12                  https://github.com/isl-org/Open3D  \n",
       "13  https://github.com/timzhang642/3D-Machine-Lear...  \n",
       "14  https://github.com/a1studmuffin/SpaceshipGener...  \n",
       "15   https://github.com/nerfstudio-project/nerfstudio  \n",
       "16              https://github.com/domlysz/BlenderGIS  \n",
       "17               https://github.com/FyroxEngine/Fyrox  \n",
       "18             https://github.com/google/model-viewer  \n",
       "19               https://github.com/openscad/openscad  "
      ]
     },
     "execution_count": 87,
     "metadata": {},
     "output_type": "execute_result"
    }
   ],
   "source": [
    "topic_repos_df"
   ]
  },
  {
   "cell_type": "markdown",
   "id": "5638bdad",
   "metadata": {},
   "source": [
    "Making it into a generalized function to apply to all the topics"
   ]
  },
  {
   "cell_type": "code",
   "execution_count": 123,
   "id": "6e2861d6",
   "metadata": {},
   "outputs": [],
   "source": [
    "def get_topic_repos(topic_url):\n",
    "    #Download the webpage\n",
    "    response=requests.get(topic_url)\n",
    "    \n",
    "    #check if the response is successful\n",
    "    if response.status_code !=200:\n",
    "        raise Exception('Failed to load page {}'.format(topic_url))\n",
    "    #Parse using BeautifulSoup\n",
    "    topic_doc=BeautifulSoup(response.text,'html.parser')\n",
    "    #Get repo title,URL and username\n",
    "    h3_selection_class='f3 color-fg-muted text-normal lh-condensed'\n",
    "    repo_tags=topic_doc.find_all('h3',{'class':h3_selection_class})\n",
    "    #Get the star tags\n",
    "    star_tags=topic_doc.find_all('span',{'class':\"Counter js-social-count\"})\n",
    "    \n",
    "    #Creating a dictionary to store data\n",
    "    topics_repos_dict={\n",
    "    'username':[],\n",
    "    'repo_name':[],\n",
    "    'stars':[],\n",
    "    'repo_url':[]\n",
    "    }\n",
    "    #Get repo info\n",
    "    for i in range(len(repo_tags)):\n",
    "        repo_info=get_repo_info(repo_tags[i],star_tags[i])\n",
    "        topics_repos_dict['username'].append(repo_info[0])\n",
    "        topics_repos_dict['repo_name'].append(repo_info[1])\n",
    "        topics_repos_dict['stars'].append(repo_info[2])\n",
    "        topics_repos_dict['repo_url'].append(repo_info[3])\n",
    "        \n",
    "    return pd.DataFrame(topics_repos_dict)\n",
    "\n",
    "\n",
    "        \n",
    "    \n",
    "        \n",
    "    \n",
    "    "
   ]
  },
  {
   "cell_type": "code",
   "execution_count": 108,
   "id": "2def54be",
   "metadata": {},
   "outputs": [
    {
     "data": {
      "text/html": [
       "<div>\n",
       "<style scoped>\n",
       "    .dataframe tbody tr th:only-of-type {\n",
       "        vertical-align: middle;\n",
       "    }\n",
       "\n",
       "    .dataframe tbody tr th {\n",
       "        vertical-align: top;\n",
       "    }\n",
       "\n",
       "    .dataframe thead th {\n",
       "        text-align: right;\n",
       "    }\n",
       "</style>\n",
       "<table border=\"1\" class=\"dataframe\">\n",
       "  <thead>\n",
       "    <tr style=\"text-align: right;\">\n",
       "      <th></th>\n",
       "      <th>username</th>\n",
       "      <th>repo_name</th>\n",
       "      <th>stars</th>\n",
       "      <th>repo_url</th>\n",
       "    </tr>\n",
       "  </thead>\n",
       "  <tbody>\n",
       "    <tr>\n",
       "      <th>0</th>\n",
       "      <td>mrdoob</td>\n",
       "      <td>three.js</td>\n",
       "      <td>95200</td>\n",
       "      <td>https://github.com/mrdoob/three.js</td>\n",
       "    </tr>\n",
       "    <tr>\n",
       "      <th>1</th>\n",
       "      <td>pmndrs</td>\n",
       "      <td>react-three-fiber</td>\n",
       "      <td>24100</td>\n",
       "      <td>https://github.com/pmndrs/react-three-fiber</td>\n",
       "    </tr>\n",
       "    <tr>\n",
       "      <th>2</th>\n",
       "      <td>libgdx</td>\n",
       "      <td>libgdx</td>\n",
       "      <td>22100</td>\n",
       "      <td>https://github.com/libgdx/libgdx</td>\n",
       "    </tr>\n",
       "    <tr>\n",
       "      <th>3</th>\n",
       "      <td>BabylonJS</td>\n",
       "      <td>Babylon.js</td>\n",
       "      <td>21500</td>\n",
       "      <td>https://github.com/BabylonJS/Babylon.js</td>\n",
       "    </tr>\n",
       "    <tr>\n",
       "      <th>4</th>\n",
       "      <td>ssloy</td>\n",
       "      <td>tinyrenderer</td>\n",
       "      <td>18100</td>\n",
       "      <td>https://github.com/ssloy/tinyrenderer</td>\n",
       "    </tr>\n",
       "    <tr>\n",
       "      <th>5</th>\n",
       "      <td>lettier</td>\n",
       "      <td>3d-game-shaders-for-beginners</td>\n",
       "      <td>16200</td>\n",
       "      <td>https://github.com/lettier/3d-game-shaders-for...</td>\n",
       "    </tr>\n",
       "    <tr>\n",
       "      <th>6</th>\n",
       "      <td>aframevr</td>\n",
       "      <td>aframe</td>\n",
       "      <td>15700</td>\n",
       "      <td>https://github.com/aframevr/aframe</td>\n",
       "    </tr>\n",
       "    <tr>\n",
       "      <th>7</th>\n",
       "      <td>FreeCAD</td>\n",
       "      <td>FreeCAD</td>\n",
       "      <td>15500</td>\n",
       "      <td>https://github.com/FreeCAD/FreeCAD</td>\n",
       "    </tr>\n",
       "    <tr>\n",
       "      <th>8</th>\n",
       "      <td>CesiumGS</td>\n",
       "      <td>cesium</td>\n",
       "      <td>11100</td>\n",
       "      <td>https://github.com/CesiumGS/cesium</td>\n",
       "    </tr>\n",
       "    <tr>\n",
       "      <th>9</th>\n",
       "      <td>MonoGame</td>\n",
       "      <td>MonoGame</td>\n",
       "      <td>10200</td>\n",
       "      <td>https://github.com/MonoGame/MonoGame</td>\n",
       "    </tr>\n",
       "    <tr>\n",
       "      <th>10</th>\n",
       "      <td>metafizzy</td>\n",
       "      <td>zdog</td>\n",
       "      <td>10000</td>\n",
       "      <td>https://github.com/metafizzy/zdog</td>\n",
       "    </tr>\n",
       "    <tr>\n",
       "      <th>11</th>\n",
       "      <td>blender</td>\n",
       "      <td>blender</td>\n",
       "      <td>9800</td>\n",
       "      <td>https://github.com/blender/blender</td>\n",
       "    </tr>\n",
       "    <tr>\n",
       "      <th>12</th>\n",
       "      <td>isl-org</td>\n",
       "      <td>Open3D</td>\n",
       "      <td>9600</td>\n",
       "      <td>https://github.com/isl-org/Open3D</td>\n",
       "    </tr>\n",
       "    <tr>\n",
       "      <th>13</th>\n",
       "      <td>timzhang642</td>\n",
       "      <td>3D-Machine-Learning</td>\n",
       "      <td>9200</td>\n",
       "      <td>https://github.com/timzhang642/3D-Machine-Lear...</td>\n",
       "    </tr>\n",
       "    <tr>\n",
       "      <th>14</th>\n",
       "      <td>a1studmuffin</td>\n",
       "      <td>SpaceshipGenerator</td>\n",
       "      <td>7500</td>\n",
       "      <td>https://github.com/a1studmuffin/SpaceshipGener...</td>\n",
       "    </tr>\n",
       "    <tr>\n",
       "      <th>15</th>\n",
       "      <td>nerfstudio-project</td>\n",
       "      <td>nerfstudio</td>\n",
       "      <td>6900</td>\n",
       "      <td>https://github.com/nerfstudio-project/nerfstudio</td>\n",
       "    </tr>\n",
       "    <tr>\n",
       "      <th>16</th>\n",
       "      <td>domlysz</td>\n",
       "      <td>BlenderGIS</td>\n",
       "      <td>6800</td>\n",
       "      <td>https://github.com/domlysz/BlenderGIS</td>\n",
       "    </tr>\n",
       "    <tr>\n",
       "      <th>17</th>\n",
       "      <td>FyroxEngine</td>\n",
       "      <td>Fyrox</td>\n",
       "      <td>6700</td>\n",
       "      <td>https://github.com/FyroxEngine/Fyrox</td>\n",
       "    </tr>\n",
       "    <tr>\n",
       "      <th>18</th>\n",
       "      <td>google</td>\n",
       "      <td>model-viewer</td>\n",
       "      <td>6100</td>\n",
       "      <td>https://github.com/google/model-viewer</td>\n",
       "    </tr>\n",
       "    <tr>\n",
       "      <th>19</th>\n",
       "      <td>openscad</td>\n",
       "      <td>openscad</td>\n",
       "      <td>6000</td>\n",
       "      <td>https://github.com/openscad/openscad</td>\n",
       "    </tr>\n",
       "  </tbody>\n",
       "</table>\n",
       "</div>"
      ],
      "text/plain": [
       "              username                      repo_name  stars  \\\n",
       "0               mrdoob                       three.js  95200   \n",
       "1               pmndrs              react-three-fiber  24100   \n",
       "2               libgdx                         libgdx  22100   \n",
       "3            BabylonJS                     Babylon.js  21500   \n",
       "4                ssloy                   tinyrenderer  18100   \n",
       "5              lettier  3d-game-shaders-for-beginners  16200   \n",
       "6             aframevr                         aframe  15700   \n",
       "7              FreeCAD                        FreeCAD  15500   \n",
       "8             CesiumGS                         cesium  11100   \n",
       "9             MonoGame                       MonoGame  10200   \n",
       "10           metafizzy                           zdog  10000   \n",
       "11             blender                        blender   9800   \n",
       "12             isl-org                         Open3D   9600   \n",
       "13         timzhang642            3D-Machine-Learning   9200   \n",
       "14        a1studmuffin             SpaceshipGenerator   7500   \n",
       "15  nerfstudio-project                     nerfstudio   6900   \n",
       "16             domlysz                     BlenderGIS   6800   \n",
       "17         FyroxEngine                          Fyrox   6700   \n",
       "18              google                   model-viewer   6100   \n",
       "19            openscad                       openscad   6000   \n",
       "\n",
       "                                             repo_url  \n",
       "0                  https://github.com/mrdoob/three.js  \n",
       "1         https://github.com/pmndrs/react-three-fiber  \n",
       "2                    https://github.com/libgdx/libgdx  \n",
       "3             https://github.com/BabylonJS/Babylon.js  \n",
       "4               https://github.com/ssloy/tinyrenderer  \n",
       "5   https://github.com/lettier/3d-game-shaders-for...  \n",
       "6                  https://github.com/aframevr/aframe  \n",
       "7                  https://github.com/FreeCAD/FreeCAD  \n",
       "8                  https://github.com/CesiumGS/cesium  \n",
       "9                https://github.com/MonoGame/MonoGame  \n",
       "10                  https://github.com/metafizzy/zdog  \n",
       "11                 https://github.com/blender/blender  \n",
       "12                  https://github.com/isl-org/Open3D  \n",
       "13  https://github.com/timzhang642/3D-Machine-Lear...  \n",
       "14  https://github.com/a1studmuffin/SpaceshipGener...  \n",
       "15   https://github.com/nerfstudio-project/nerfstudio  \n",
       "16              https://github.com/domlysz/BlenderGIS  \n",
       "17               https://github.com/FyroxEngine/Fyrox  \n",
       "18             https://github.com/google/model-viewer  \n",
       "19               https://github.com/openscad/openscad  "
      ]
     },
     "execution_count": 108,
     "metadata": {},
     "output_type": "execute_result"
    }
   ],
   "source": [
    "get_topic_repos(topic_urls[0])"
   ]
  },
  {
   "cell_type": "markdown",
   "id": "346b6a64",
   "metadata": {},
   "source": [
    "## Final consolidated code for getting info about all the repositories"
   ]
  },
  {
   "cell_type": "code",
   "execution_count": 113,
   "id": "18576185",
   "metadata": {},
   "outputs": [],
   "source": [
    "#Getting all the topic titles\n",
    "def get_topic_titles(doc):\n",
    "    selection_class=\"f3 lh-condensed mb-0 mt-1 Link--primary\"\n",
    "    topic_title_tags=doc.find_all('p',{'class':selection_class})\n",
    "    topic_titles=[]\n",
    "    \n",
    "    for tag in topic_title_tags:\n",
    "        topic_titles.append(tag.text)\n",
    "    return topic_titles\n",
    "\n",
    "#Getting all the topic desctiptions\n",
    "\n",
    "def get_topic_descs(doc):\n",
    "    desc_selector=\"f5 color-fg-muted mb-0 mt-1\"\n",
    "    topic_desc_tags=doc.find_all('p',{'class':desc_selector})\n",
    "    topic_desc=[]\n",
    "    \n",
    "    for tag in topic_desc_tags:\n",
    "        topic_desc.append(tag.text.strip())\n",
    "    return topic_desc\n",
    "\n",
    "#Getting all the url's\n",
    "    \n",
    "def get_topic_urls(doc):\n",
    "    topic_link_tags=doc.find_all('a',{'class':'no-underline flex-1 d-flex flex-column'})\n",
    "    topic_urls=[]\n",
    "    for i in range(len(topic_link_tags)):\n",
    "        topic_urls.append(\"https://github.com\"+topic_link_tags[i]['href'])\n",
    "    return topic_urls\n",
    "    \n",
    "    \n",
    "#Generating title,desc,url dataframe    \n",
    "\n",
    "def scrape_topics():\n",
    "    topics_url='https://github.com/topics'\n",
    "    response=requests.get(topics_url)\n",
    "    if response.status_code!=200:\n",
    "        raise Exception('Failed to load page {}'.format(topic_url))\n",
    "    topics_dict={\n",
    "        'title':get_topic_titles(doc),\n",
    "        'description':get_topic_descs(doc),\n",
    "        'url':get_topic_urls(doc)\n",
    "    }\n",
    "    return pd.DataFrame(topics_dict)\n",
    "    \n",
    "\n",
    "    "
   ]
  },
  {
   "cell_type": "markdown",
   "id": "0f888426",
   "metadata": {},
   "source": [
    "#### Now generating csv for all the topics"
   ]
  },
  {
   "cell_type": "code",
   "execution_count": 127,
   "id": "40f41788",
   "metadata": {},
   "outputs": [],
   "source": [
    "import os"
   ]
  },
  {
   "cell_type": "code",
   "execution_count": 128,
   "id": "6075fdd2",
   "metadata": {},
   "outputs": [],
   "source": [
    "def scrape_topic(topic_url,topic_name):\n",
    "    fname=topic_name+'.csv'\n",
    "    if os.path.exists(fname):\n",
    "        print(\"The file '{}' already exists\".format(fname))\n",
    "        return\n",
    "    topic_df=get_topic_repos(topic_url)\n",
    "    topic_df.to_csv(topic_name+'.csv',index=None)"
   ]
  },
  {
   "cell_type": "code",
   "execution_count": 129,
   "id": "400158e2",
   "metadata": {},
   "outputs": [],
   "source": [
    "def scrape_topics_repos():\n",
    "    topics_df=scrape_topics()\n",
    "    for index,row in topics_df.iterrows():\n",
    "        print('Scraping top repos for \"{}\"'.format(row['title']))\n",
    "        scrape_topic(row['url'],row['title'])\n",
    "        \n",
    "    "
   ]
  },
  {
   "cell_type": "code",
   "execution_count": 130,
   "id": "65466e3f",
   "metadata": {},
   "outputs": [
    {
     "name": "stdout",
     "output_type": "stream",
     "text": [
      "Scraping top repos for \"3D\"\n",
      "The file '3D.csv' already exists\n",
      "Scraping top repos for \"Ajax\"\n",
      "The file 'Ajax.csv' already exists\n",
      "Scraping top repos for \"Algorithm\"\n",
      "The file 'Algorithm.csv' already exists\n",
      "Scraping top repos for \"Amp\"\n",
      "The file 'Amp.csv' already exists\n",
      "Scraping top repos for \"Android\"\n",
      "The file 'Android.csv' already exists\n",
      "Scraping top repos for \"Angular\"\n",
      "The file 'Angular.csv' already exists\n",
      "Scraping top repos for \"Ansible\"\n",
      "The file 'Ansible.csv' already exists\n",
      "Scraping top repos for \"API\"\n",
      "The file 'API.csv' already exists\n",
      "Scraping top repos for \"Arduino\"\n",
      "The file 'Arduino.csv' already exists\n",
      "Scraping top repos for \"ASP.NET\"\n",
      "The file 'ASP.NET.csv' already exists\n",
      "Scraping top repos for \"Atom\"\n",
      "The file 'Atom.csv' already exists\n",
      "Scraping top repos for \"Awesome Lists\"\n",
      "The file 'Awesome Lists.csv' already exists\n",
      "Scraping top repos for \"Amazon Web Services\"\n",
      "The file 'Amazon Web Services.csv' already exists\n",
      "Scraping top repos for \"Azure\"\n",
      "The file 'Azure.csv' already exists\n",
      "Scraping top repos for \"Babel\"\n",
      "The file 'Babel.csv' already exists\n",
      "Scraping top repos for \"Bash\"\n",
      "The file 'Bash.csv' already exists\n",
      "Scraping top repos for \"Bitcoin\"\n",
      "The file 'Bitcoin.csv' already exists\n",
      "Scraping top repos for \"Bootstrap\"\n",
      "The file 'Bootstrap.csv' already exists\n",
      "Scraping top repos for \"Bot\"\n",
      "The file 'Bot.csv' already exists\n",
      "Scraping top repos for \"C\"\n",
      "The file 'C.csv' already exists\n",
      "Scraping top repos for \"Chrome\"\n",
      "The file 'Chrome.csv' already exists\n",
      "Scraping top repos for \"Chrome extension\"\n",
      "The file 'Chrome extension.csv' already exists\n",
      "Scraping top repos for \"Command line interface\"\n",
      "The file 'Command line interface.csv' already exists\n",
      "Scraping top repos for \"Clojure\"\n",
      "The file 'Clojure.csv' already exists\n",
      "Scraping top repos for \"Code quality\"\n",
      "The file 'Code quality.csv' already exists\n",
      "Scraping top repos for \"Code review\"\n",
      "The file 'Code review.csv' already exists\n",
      "Scraping top repos for \"Compiler\"\n",
      "The file 'Compiler.csv' already exists\n",
      "Scraping top repos for \"Continuous integration\"\n",
      "The file 'Continuous integration.csv' already exists\n",
      "Scraping top repos for \"COVID-19\"\n",
      "The file 'COVID-19.csv' already exists\n",
      "Scraping top repos for \"C++\"\n",
      "The file 'C++.csv' already exists\n"
     ]
    }
   ],
   "source": [
    "scrape_topics_repos()"
   ]
  },
  {
   "cell_type": "code",
   "execution_count": null,
   "id": "5ad32410",
   "metadata": {},
   "outputs": [],
   "source": []
  }
 ],
 "metadata": {
  "kernelspec": {
   "display_name": "Python 3 (ipykernel)",
   "language": "python",
   "name": "python3"
  },
  "language_info": {
   "codemirror_mode": {
    "name": "ipython",
    "version": 3
   },
   "file_extension": ".py",
   "mimetype": "text/x-python",
   "name": "python",
   "nbconvert_exporter": "python",
   "pygments_lexer": "ipython3",
   "version": "3.11.4"
  }
 },
 "nbformat": 4,
 "nbformat_minor": 5
}
